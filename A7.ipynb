{
 "cells": [
  {
   "cell_type": "markdown",
   "metadata": {},
   "source": [
    "# Welcome to an example Binder"
   ]
  },
  {
   "cell_type": "markdown",
   "metadata": {},
   "source": [
    "We need `seaborn`, which shall be included it in `requirements.txt` file"
   ]
  },
  {
   "cell_type": "code",
   "execution_count": 2,
   "metadata": {},
   "outputs": [],
   "source": [
    "import pandas as pd\n",
    "import numpy as np\n",
    "import matplotlib as mpl\n",
    "import matplotlib.pyplot as plt \n",
    "import seaborn as sns"
   ]
  },
  {
   "cell_type": "code",
   "execution_count": 4,
   "metadata": {},
   "outputs": [
    {
     "data": {
      "text/html": [
       "<div>\n",
       "<style scoped>\n",
       "    .dataframe tbody tr th:only-of-type {\n",
       "        vertical-align: middle;\n",
       "    }\n",
       "\n",
       "    .dataframe tbody tr th {\n",
       "        vertical-align: top;\n",
       "    }\n",
       "\n",
       "    .dataframe thead th {\n",
       "        text-align: right;\n",
       "    }\n",
       "</style>\n",
       "<table border=\"1\" class=\"dataframe\">\n",
       "  <thead>\n",
       "    <tr style=\"text-align: right;\">\n",
       "      <th></th>\n",
       "      <th>folio</th>\n",
       "      <th>intp</th>\n",
       "      <th>entidad</th>\n",
       "      <th>desc_ent</th>\n",
       "      <th>sexo</th>\n",
       "      <th>edad</th>\n",
       "      <th>meses</th>\n",
       "      <th>peso</th>\n",
       "      <th>ropa</th>\n",
       "      <th>talla</th>\n",
       "      <th>...</th>\n",
       "      <th>hpresion</th>\n",
       "      <th>tbrazo</th>\n",
       "      <th>htension</th>\n",
       "      <th>PrimaryLast</th>\n",
       "      <th>code_upm</th>\n",
       "      <th>est_dis</th>\n",
       "      <th>est_urb</th>\n",
       "      <th>est_marg</th>\n",
       "      <th>pondef</th>\n",
       "      <th>est_var</th>\n",
       "    </tr>\n",
       "  </thead>\n",
       "  <tbody>\n",
       "    <tr>\n",
       "      <th>0</th>\n",
       "      <td>210295</td>\n",
       "      <td>2</td>\n",
       "      <td>21</td>\n",
       "      <td>PUEBLA</td>\n",
       "      <td>2</td>\n",
       "      <td>38</td>\n",
       "      <td>8</td>\n",
       "      <td>73.70</td>\n",
       "      <td>2</td>\n",
       "      <td>146.4</td>\n",
       "      <td>...</td>\n",
       "      <td>16:30</td>\n",
       "      <td>2</td>\n",
       "      <td>16:35</td>\n",
       "      <td>1</td>\n",
       "      <td>R2101</td>\n",
       "      <td>5</td>\n",
       "      <td>3</td>\n",
       "      <td>1</td>\n",
       "      <td>3470.002176</td>\n",
       "      <td>215</td>\n",
       "    </tr>\n",
       "    <tr>\n",
       "      <th>1</th>\n",
       "      <td>101655</td>\n",
       "      <td>3</td>\n",
       "      <td>10</td>\n",
       "      <td>DURANGO</td>\n",
       "      <td>2</td>\n",
       "      <td>11</td>\n",
       "      <td>11</td>\n",
       "      <td>35.65</td>\n",
       "      <td>2</td>\n",
       "      <td>145.1</td>\n",
       "      <td>...</td>\n",
       "      <td>15:25</td>\n",
       "      <td>3</td>\n",
       "      <td>15:25</td>\n",
       "      <td>1</td>\n",
       "      <td>M1041</td>\n",
       "      <td>1</td>\n",
       "      <td>1</td>\n",
       "      <td>1</td>\n",
       "      <td>417.946672</td>\n",
       "      <td>101</td>\n",
       "    </tr>\n",
       "    <tr>\n",
       "      <th>2</th>\n",
       "      <td>10287</td>\n",
       "      <td>6</td>\n",
       "      <td>1</td>\n",
       "      <td>AGUASCALIENTES</td>\n",
       "      <td>2</td>\n",
       "      <td>18</td>\n",
       "      <td>8</td>\n",
       "      <td>54.80</td>\n",
       "      <td>1</td>\n",
       "      <td>162.0</td>\n",
       "      <td>...</td>\n",
       "      <td>9:40</td>\n",
       "      <td>1</td>\n",
       "      <td>9:40</td>\n",
       "      <td>1</td>\n",
       "      <td>M0108</td>\n",
       "      <td>5</td>\n",
       "      <td>3</td>\n",
       "      <td>1</td>\n",
       "      <td>472.980811</td>\n",
       "      <td>15</td>\n",
       "    </tr>\n",
       "    <tr>\n",
       "      <th>3</th>\n",
       "      <td>91526</td>\n",
       "      <td>4</td>\n",
       "      <td>9</td>\n",
       "      <td>DISTRITO FEDERAL</td>\n",
       "      <td>1</td>\n",
       "      <td>10</td>\n",
       "      <td>8</td>\n",
       "      <td>33.40</td>\n",
       "      <td>2</td>\n",
       "      <td>146.5</td>\n",
       "      <td>...</td>\n",
       "      <td>7:40</td>\n",
       "      <td>3</td>\n",
       "      <td>7:45</td>\n",
       "      <td>1</td>\n",
       "      <td>M0931</td>\n",
       "      <td>4</td>\n",
       "      <td>3</td>\n",
       "      <td>2</td>\n",
       "      <td>1832.581391</td>\n",
       "      <td>94</td>\n",
       "    </tr>\n",
       "    <tr>\n",
       "      <th>4</th>\n",
       "      <td>210939</td>\n",
       "      <td>3</td>\n",
       "      <td>21</td>\n",
       "      <td>PUEBLA</td>\n",
       "      <td>2</td>\n",
       "      <td>19</td>\n",
       "      <td>3</td>\n",
       "      <td>97.95</td>\n",
       "      <td>2</td>\n",
       "      <td>161.0</td>\n",
       "      <td>...</td>\n",
       "      <td>6:00</td>\n",
       "      <td>2</td>\n",
       "      <td>6:00</td>\n",
       "      <td>1</td>\n",
       "      <td>M2123</td>\n",
       "      <td>5</td>\n",
       "      <td>3</td>\n",
       "      <td>1</td>\n",
       "      <td>7622.066564</td>\n",
       "      <td>215</td>\n",
       "    </tr>\n",
       "  </tbody>\n",
       "</table>\n",
       "<p>5 rows × 26 columns</p>\n",
       "</div>"
      ],
      "text/plain": [
       "    folio  intp  entidad          desc_ent  sexo  edad  meses   peso  ropa  \\\n",
       "0  210295     2       21            PUEBLA     2    38      8  73.70     2   \n",
       "1  101655     3       10           DURANGO     2    11     11  35.65     2   \n",
       "2   10287     6        1    AGUASCALIENTES     2    18      8  54.80     1   \n",
       "3   91526     4        9  DISTRITO FEDERAL     1    10      8  33.40     2   \n",
       "4  210939     3       21            PUEBLA     2    19      3  97.95     2   \n",
       "\n",
       "   talla  ... hpresion tbrazo  htension  PrimaryLast  code_upm  est_dis  \\\n",
       "0  146.4  ...    16:30      2     16:35            1     R2101        5   \n",
       "1  145.1  ...    15:25      3     15:25            1     M1041        1   \n",
       "2  162.0  ...     9:40      1      9:40            1     M0108        5   \n",
       "3  146.5  ...     7:40      3      7:45            1     M0931        4   \n",
       "4  161.0  ...     6:00      2      6:00            1     M2123        5   \n",
       "\n",
       "  est_urb est_marg       pondef  est_var  \n",
       "0       3        1  3470.002176      215  \n",
       "1       1        1   417.946672      101  \n",
       "2       3        1   472.980811       15  \n",
       "3       3        2  1832.581391       94  \n",
       "4       3        1  7622.066564      215  \n",
       "\n",
       "[5 rows x 26 columns]"
      ]
     },
     "execution_count": 4,
     "metadata": {},
     "output_type": "execute_result"
    }
   ],
   "source": [
    "df = pd.read_csv('datasets/antropometria-dataset.csv') \n",
    "df.head(5)"
   ]
  },
  {
   "cell_type": "code",
   "execution_count": 6,
   "metadata": {},
   "outputs": [
    {
     "data": {
      "image/png": "[encoded data removed]",
      "text/plain": [
       "<Figure size 432x288 with 1 Axes>"
      ]
     },
     "metadata": {
      "needs_background": "light"
     },
     "output_type": "display_data"
    }
   ],
   "source": [
    "data = [df.loc[:,'cintura'],] \n",
    "\n",
    "patches=plt.hist(data, bins = 15)"
   ]
  },
  {
   "cell_type": "code",
   "execution_count": 7,
   "metadata": {},
   "outputs": [
    {
     "data": {
      "text/plain": [
       "<seaborn.axisgrid.FacetGrid at 0x7f364f28d910>"
      ]
     },
     "execution_count": 7,
     "metadata": {},
     "output_type": "execute_result"
    },
    {
     "data": {
      "image/png": "[encoded data removed]",
      "text/plain": [
       "<Figure size 402.375x360 with 1 Axes>"
      ]
     },
     "metadata": {
      "needs_background": "light"
     },
     "output_type": "display_data"
    }
   ],
   "source": [
    "sns.lmplot(x='sistol', \n",
    "           y='cintura',\n",
    "           data=df, \n",
    "           hue= 'sexo')"
   ]
  },
  {
   "cell_type": "code",
   "execution_count": 9,
   "metadata": {},
   "outputs": [
    {
     "data": {
      "text/plain": [
       "<matplotlib.axes._subplots.AxesSubplot at 0x7f364b9f6130>"
      ]
     },
     "execution_count": 9,
     "metadata": {},
     "output_type": "execute_result"
    },
    {
     "data": {
      "image/png": "[encoded data removed]",
      "text/plain": [
       "<Figure size 432x288 with 1 Axes>"
      ]
     },
     "metadata": {
      "needs_background": "light"
     },
     "output_type": "display_data"
    }
   ],
   "source": [
    "sns.boxplot(df.peso)"
   ]
  },
  {
   "cell_type": "code",
   "execution_count": null,
   "metadata": {},
   "outputs": [],
   "source": []
  }
 ],
 "metadata": {
  "kernelspec": {
   "display_name": "Python 3 (ipykernel)",
   "language": "python",
   "name": "python3"
  },
  "language_info": {
   "codemirror_mode": {
    "name": "ipython",
    "version": 3
   },
   "file_extension": ".py",
   "mimetype": "text/x-python",
   "name": "python",
   "nbconvert_exporter": "python",
   "pygments_lexer": "ipython3",
   "version": "3.8.12"
  }
 },
 "nbformat": 4,
 "nbformat_minor": 4
}
